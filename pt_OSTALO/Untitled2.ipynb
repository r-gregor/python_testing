{
 "cells": [
  {
   "cell_type": "code",
   "execution_count": 2,
   "metadata": {},
   "outputs": [],
   "source": [
    "def merge(L1, L2):\n",
    "\n",
    "    L3 = []\n",
    "    i = 0\n",
    "    j = 0\n",
    "\n",
    "    while i < len(L1) and j < len(L2):\n",
    "        if L1[i] <= L2[j]:\n",
    "            L3.append(L1[i])\n",
    "            i += 1\n",
    "        else:\n",
    "            L3.append(L2[j])\n",
    "            j += 1\n",
    "\n",
    "    while i < len(L1):\n",
    "        L3.append(L1[i])\n",
    "        i += 1\n",
    "            \n",
    "    while j < len(L2):\n",
    "        L3.append(L2[j])\n",
    "        j += 1\n",
    "        \n",
    "    print(L3)\n"
   ]
  },
  {
   "cell_type": "code",
   "execution_count": 10,
   "metadata": {},
   "outputs": [],
   "source": [
    "arr1 = [1, 3, 5, 5, 7, 9, 11, 13]\n",
    "arr2 = [2, 4, 6, 8, 10, 12, 12, 12]"
   ]
  },
  {
   "cell_type": "code",
   "execution_count": 11,
   "metadata": {},
   "outputs": [
    {
     "name": "stdout",
     "output_type": "stream",
     "text": [
      "[1, 2, 3, 4, 5, 5, 6, 7, 8, 9, 10, 11, 12, 12, 12, 13]\n"
     ]
    }
   ],
   "source": [
    "merge(arr1, arr2)"
   ]
  },
  {
   "cell_type": "code",
   "execution_count": 6,
   "metadata": {},
   "outputs": [],
   "source": [
    "arr1 = [\"a\", \"c\", \"e\", \"g\", \"h\", \"j\", \"k\"]\n",
    "arr2 = [\"b\", \"d\", \"f\", \"h\", \"i\", \"l\", \"m\"]"
   ]
  },
  {
   "cell_type": "code",
   "execution_count": 7,
   "metadata": {},
   "outputs": [
    {
     "name": "stdout",
     "output_type": "stream",
     "text": [
      "['a', 'b', 'c', 'd', 'e', 'f', 'g', 'h', 'h', 'i', 'j', 'k', 'l', 'm']\n"
     ]
    }
   ],
   "source": [
    "merge(arr1, arr2)"
   ]
  },
  {
   "cell_type": "code",
   "execution_count": null,
   "metadata": {},
   "outputs": [],
   "source": []
  }
 ],
 "metadata": {
  "kernelspec": {
   "display_name": "Python 3",
   "language": "python",
   "name": "python3"
  },
  "language_info": {
   "codemirror_mode": {
    "name": "ipython",
    "version": 3
   },
   "file_extension": ".py",
   "mimetype": "text/x-python",
   "name": "python",
   "nbconvert_exporter": "python",
   "pygments_lexer": "ipython3",
   "version": "3.6.4"
  }
 },
 "nbformat": 4,
 "nbformat_minor": 2
}
