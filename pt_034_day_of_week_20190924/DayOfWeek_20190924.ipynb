{
 "cells": [
  {
   "cell_type": "code",
   "execution_count": 76,
   "metadata": {},
   "outputs": [],
   "source": [
    "def dayOfWeek(currday, offset):\n",
    "    weekDays = {1:\"Monday\", 2:\"Tuesday\", 3:\"Wednesday\", 4:\"Thursday\", 5:\"Friday\", 6:\"Saturday\", 7:\"Sunday\"}\n",
    " \n",
    "    day = abs(  (currday + offset) % 7  )\n",
    "    \n",
    "    # ternary if expression\n",
    "    day = currday if day == 0 else day\n",
    "    \n",
    "    print(\"Week day {} days from {} is: {}\".format(offset, weekDays.get(currday), weekDays.get(day)))"
   ]
  },
  {
   "cell_type": "code",
   "execution_count": 77,
   "metadata": {},
   "outputs": [
    {
     "name": "stdout",
     "output_type": "stream",
     "text": [
      "Week day 108 days from Tuesday is: Friday\n"
     ]
    }
   ],
   "source": [
    "dayOfWeek(2, 108)"
   ]
  },
  {
   "cell_type": "code",
   "execution_count": 78,
   "metadata": {},
   "outputs": [
    {
     "name": "stdout",
     "output_type": "stream",
     "text": [
      "Week day 142 days from Tuesday is: Thursday\n"
     ]
    }
   ],
   "source": [
    "dayOfWeek(2, 142)"
   ]
  },
  {
   "cell_type": "code",
   "execution_count": 79,
   "metadata": {},
   "outputs": [
    {
     "name": "stdout",
     "output_type": "stream",
     "text": [
      "Week day -8 days from Sunday is: Saturday\n"
     ]
    }
   ],
   "source": [
    "dayOfWeek(7, -8)"
   ]
  },
  {
   "cell_type": "code",
   "execution_count": 80,
   "metadata": {},
   "outputs": [
    {
     "name": "stdout",
     "output_type": "stream",
     "text": [
      "Week day 140 days from Sunday is: Sunday\n"
     ]
    }
   ],
   "source": [
    "dayOfWeek(7, 140)"
   ]
  },
  {
   "cell_type": "code",
   "execution_count": 82,
   "metadata": {},
   "outputs": [
    {
     "name": "stdout",
     "output_type": "stream",
     "text": [
      "Week day -282 days from Sunday is: Friday\n"
     ]
    }
   ],
   "source": [
    "dayOfWeek(7, -282)"
   ]
  },
  {
   "cell_type": "code",
   "execution_count": null,
   "metadata": {},
   "outputs": [],
   "source": []
  }
 ],
 "metadata": {
  "kernelspec": {
   "display_name": "Python 3",
   "language": "python",
   "name": "python3"
  },
  "language_info": {
   "codemirror_mode": {
    "name": "ipython",
    "version": 3
   },
   "file_extension": ".py",
   "mimetype": "text/x-python",
   "name": "python",
   "nbconvert_exporter": "python",
   "pygments_lexer": "ipython3",
   "version": "3.6.4"
  }
 },
 "nbformat": 4,
 "nbformat_minor": 2
}
