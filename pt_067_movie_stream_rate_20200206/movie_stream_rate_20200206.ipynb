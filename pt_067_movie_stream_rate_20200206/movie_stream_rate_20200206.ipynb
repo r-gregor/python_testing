{
 "cells": [
  {
   "cell_type": "code",
   "execution_count": 2,
   "metadata": {},
   "outputs": [
    {
     "output_type": "execute_result",
     "data": {
      "text/plain": [
       "'\\nMS = 6 GB: movie size in GB --> MB = GB * 1024 --> Mb = MB * 8 --> MS = 6 * 1024 * 8[Mbit]\\n\\ntimem = 90 min: duration in minutes --> times = timem * 60 [sec]\\n\\nrate =       (MS * 1024 * 8) / (timem * 60)\\n[Mbit/sec] = [Mbit]          / [sec] \\n\\n\\nsource: https://entertainment.howstuffworks.com/fast-internet-connection-for-streaming-hd-movies1.htm\\n'"
      ]
     },
     "metadata": {},
     "execution_count": 2
    }
   ],
   "source": [
    "\"\"\"\n",
    "MS = 6 GB: movie size in GB --> MB = GB * 1024 --> Mb = MB * 8 --> MS = 6 * 1024 * 8[Mbit]\n",
    "\n",
    "timem = 90 min: duration in minutes --> times = timem * 60 [sec]\n",
    "\n",
    "rate =       (MS * 1024 * 8) / (timem * 60)\n",
    "[Mbit/sec] = [Mbit]          / [sec] \n",
    "\n",
    "\n",
    "source: https://entertainment.howstuffworks.com/fast-internet-connection-for-streaming-hd-movies1.htm\n",
    "\"\"\""
   ]
  },
  {
   "cell_type": "code",
   "execution_count": 3,
   "metadata": {},
   "outputs": [],
   "source": [
    "def rate2(MS, timem):\n",
    "    rate = (MS * 1024 * 8) / (timem * 60)\n",
    "    print((\"Movie size: {} GB\\n\" +\n",
    "           \"Dration:    {} min.\\n\" +\n",
    "           \"Rate:       {:.3f} Mbit/s\\n\").format(MS, timem, rate))\n"
   ]
  },
  {
   "cell_type": "code",
   "execution_count": 4,
   "metadata": {},
   "outputs": [
    {
     "output_type": "stream",
     "name": "stdout",
     "text": [
      "Movie size: 6 GB\nDration:    60 min.\nRate:       13.653 Mbit/s\n\n"
     ]
    }
   ],
   "source": [
    "rate2(6, 60)"
   ]
  },
  {
   "cell_type": "code",
   "execution_count": 5,
   "metadata": {},
   "outputs": [],
   "source": [
    "def rate(MS, timem):\n",
    "    rate = float(MS * 1024 * 8) / float(timem * 60)\n",
    "    line = (\"Movie size: {} GB\\n\" +\n",
    "            \"Dration:    {} min.\\n\" +\n",
    "            \"Rate:       {:.2f} Mbit/s\\n\").format(MS, timem, rate)\n",
    "    print(line)"
   ]
  },
  {
   "cell_type": "code",
   "execution_count": 6,
   "metadata": {},
   "outputs": [
    {
     "output_type": "stream",
     "name": "stdout",
     "text": [
      "Movie size: 6 GB\nDration:    60 min.\nRate:       13.65 Mbit/s\n\n"
     ]
    }
   ],
   "source": [
    "rate(6, 60)"
   ]
  },
  {
   "cell_type": "code",
   "execution_count": 7,
   "metadata": {},
   "outputs": [
    {
     "output_type": "stream",
     "name": "stdout",
     "text": [
      "Movie size: 2.8 GB\nDration:    120 min.\nRate:       3.19 Mbit/s\n\n"
     ]
    }
   ],
   "source": [
    "rate(2.8, 120)"
   ]
  },
  {
   "cell_type": "code",
   "execution_count": 8,
   "metadata": {},
   "outputs": [
    {
     "output_type": "stream",
     "name": "stdout",
     "text": [
      "Movie size: 4.2 GB\nDration:    120 min.\nRate:       4.78 Mbit/s\n\n"
     ]
    }
   ],
   "source": [
    "rate(4.2,120)"
   ]
  },
  {
   "cell_type": "code",
   "execution_count": 9,
   "metadata": {},
   "outputs": [
    {
     "output_type": "stream",
     "name": "stdout",
     "text": [
      "Movie size: 4.2 GB\nDration:    101 min.\nRate:       5.68 Mbit/s\n\n"
     ]
    }
   ],
   "source": [
    "rate(4.2, 101) # 101 minutes -- average movie length"
   ]
  },
  {
   "cell_type": "code",
   "execution_count": 10,
   "metadata": {},
   "outputs": [
    {
     "output_type": "stream",
     "name": "stdout",
     "text": [
      "Movie size: 10 GB\n",
      "Dration:    120 min.\n",
      "Rate:       11.38 Mbit/s\n",
      "\n",
      "Movie size: 15 GB\n",
      "Dration:    120 min.\n",
      "Rate:       17.07 Mbit/s\n",
      "\n",
      "Movie size: 20 GB\n",
      "Dration:    120 min.\n",
      "Rate:       22.76 Mbit/s\n",
      "\n",
      "Movie size: 25 GB\n",
      "Dration:    120 min.\n",
      "Rate:       28.44 Mbit/s\n",
      "\n"
     ]
    }
   ],
   "source": [
    "# average BlueRay 120 min movie = 15 - 25 GB\n",
    "for DVD1080p in [10, 15, 20, 25]:\n",
    "    rate(DVD1080p, 120)"
   ]
  },
  {
   "cell_type": "code",
   "execution_count": 11,
   "metadata": {},
   "outputs": [
    {
     "output_type": "stream",
     "name": "stdout",
     "text": [
      "Movie size: 0.87 GB\nDration:    101 min.\nRate:       1.18 Mbit/s\n\nMovie size: 1.2 GB\nDration:    101 min.\nRate:       1.62 Mbit/s\n\nMovie size: 1.4 GB\nDration:    101 min.\nRate:       1.89 Mbit/s\n\n"
     ]
    }
   ],
   "source": [
    "# average HD 720p 101 min movie = 0.8 - 1.4 GB\n",
    "for DVD720p in [0.870, 1.2, 1.4]:\n",
    "    rate(DVD720p, 101)"
   ]
  },
  {
   "cell_type": "code",
   "execution_count": 12,
   "metadata": {},
   "outputs": [
    {
     "output_type": "stream",
     "name": "stdout",
     "text": [
      "Movie size: 1.4 GB\nDration:    93 min.\nRate:       2.06 Mbit/s\n\n"
     ]
    }
   ],
   "source": [
    "rate(DVD720p, 93)"
   ]
  },
  {
   "cell_type": "code",
   "execution_count": 14,
   "metadata": {},
   "outputs": [
    {
     "output_type": "stream",
     "name": "stdout",
     "text": [
      "Movie size: 1.28 GB\nDration:    108 min.\nRate:       1.62 Mbit/s\n\n"
     ]
    }
   ],
   "source": [
    "rate(1.28, 108)"
   ]
  },
  {
   "cell_type": "code",
   "execution_count": null,
   "metadata": {},
   "outputs": [],
   "source": []
  }
 ],
 "metadata": {
  "kernelspec": {
   "display_name": "Python 3",
   "language": "python",
   "name": "python3"
  },
  "language_info": {
   "codemirror_mode": {
    "name": "ipython",
    "version": 3
   },
   "file_extension": ".py",
   "mimetype": "text/x-python",
   "name": "python",
   "nbconvert_exporter": "python",
   "pygments_lexer": "ipython3",
   "version": "3.8.2-final"
  }
 },
 "nbformat": 4,
 "nbformat_minor": 2
}