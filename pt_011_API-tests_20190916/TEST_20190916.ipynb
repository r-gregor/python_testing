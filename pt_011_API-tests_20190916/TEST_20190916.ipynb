{
 "cells": [
  {
   "cell_type": "code",
   "execution_count": 67,
   "metadata": {},
   "outputs": [
    {
     "name": "stdout",
     "output_type": "stream",
     "text": [
      "200\n"
     ]
    }
   ],
   "source": [
    "import json\n",
    "import requests\n",
    "import datetime\n",
    "\n",
    "danes = datetime.datetime.now().strftime(\"%Y-%m-%d %H:%M:%S\")\n",
    "\n",
    "apiurl = \"https://api.sunrise-sunset.org/json\"\n",
    "parameters = {\n",
    "    \"lat\": 46.06,\n",
    "    \"lng\": 14.51\n",
    "}\n",
    "\n",
    "response = requests.get(apiurl, params=parameters)\n",
    "print(response.status_code)"
   ]
  },
  {
   "cell_type": "code",
   "execution_count": 68,
   "metadata": {},
   "outputs": [
    {
     "name": "stdout",
     "output_type": "stream",
     "text": [
      "{'results': {'sunrise': '4:41:36 AM', 'sunset': '5:11:52 PM', 'solar_noon': '10:56:44 AM', 'day_length': '12:30:16', 'civil_twilight_begin': '4:11:40 AM', 'civil_twilight_end': '5:41:49 PM', 'nautical_twilight_begin': '3:36:07 AM', 'nautical_twilight_end': '6:17:21 PM', 'astronomical_twilight_begin': '2:59:17 AM', 'astronomical_twilight_end': '6:54:12 PM'}, 'status': 'OK'}\n"
     ]
    }
   ],
   "source": [
    "response = requests.get(apiurl, params=parameters)\n",
    "print(response.json())"
   ]
  },
  {
   "cell_type": "code",
   "execution_count": 84,
   "metadata": {},
   "outputs": [
    {
     "name": "stdout",
     "output_type": "stream",
     "text": [
      "Datum: 1968-02-22\n",
      "==========================\n",
      "Sončni vzhod: 5:53:48 AM\n",
      "Sončni zahod: 4:37:21 PM\n",
      "Dolžina dneva: 10:43:33\n",
      "\n",
      "Datum: 2022-02-22\n",
      "==========================\n",
      "Sončni vzhod: 5:52:09 AM\n",
      "Sončni zahod: 4:38:33 PM\n",
      "Dolžina dneva: 10:46:24\n",
      "\n",
      "Datum: 1970-01-19\n",
      "==========================\n",
      "Sončni vzhod: 6:37:16 AM\n",
      "Sončni zahod: 3:48:22 PM\n",
      "Dolžina dneva: 09:11:06\n",
      "\n"
     ]
    }
   ],
   "source": [
    "def vzhod_zahod(*datum):\n",
    "    # danes = datetime.datetime.now().strftime(\"%Y-%m-%d\")\n",
    "\n",
    "    for dt in datum:\n",
    "        parameters = {\n",
    "        \"lat\": 46.06,\n",
    "        \"lng\": 14.51,\n",
    "        \"date\": dt\n",
    "        }\n",
    "        \n",
    "        response = requests.get(apiurl, params=parameters)\n",
    "        data = response.json()['results']\n",
    "\n",
    "        vzhod = data['sunrise']\n",
    "        zahod = data['sunset']\n",
    "        dolzina = data['day_length']\n",
    "\n",
    "        print(\"Datum: {}\\n==========================\".format(dt))\n",
    "        print(\"Sončni vzhod: {}\".format(vzhod))\n",
    "        print(\"Sončni zahod: {}\".format(zahod))\n",
    "        print(\"Dolžina dneva: {}\".format(dolzina))\n",
    "        print(\"\")\n",
    "\n",
    "\n",
    "\n",
    "vzhod_zahod(\"1968-02-22\", \"2022-02-22\", \"1970-01-19\")"
   ]
  },
  {
   "cell_type": "code",
   "execution_count": null,
   "metadata": {},
   "outputs": [],
   "source": []
  }
 ],
 "metadata": {
  "kernelspec": {
   "display_name": "Python 3",
   "language": "python",
   "name": "python3"
  },
  "language_info": {
   "codemirror_mode": {
    "name": "ipython",
    "version": 3
   },
   "file_extension": ".py",
   "mimetype": "text/x-python",
   "name": "python",
   "nbconvert_exporter": "python",
   "pygments_lexer": "ipython3",
   "version": "3.6.4"
  }
 },
 "nbformat": 4,
 "nbformat_minor": 2
}
