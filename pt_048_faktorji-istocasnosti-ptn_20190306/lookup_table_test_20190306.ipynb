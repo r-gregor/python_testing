{
 "cells": [
  {
   "cell_type": "code",
   "execution_count": 1,
   "metadata": {},
   "outputs": [
    {
     "name": "stdout",
     "output_type": "stream",
     "text": [
      "start, end, part =  0.621 0.114 0.01014\n",
      "[0.621, 0.61086, 0.6007199999999999, 0.5905799999999999, 0.5804399999999998, 0.5702999999999998, 0.5601599999999998, 0.5500199999999997, 0.5398799999999997, 0.5297399999999997, 0.5195999999999996, 0.5094599999999996, 0.4993199999999996, 0.4891799999999996, 0.47903999999999963, 0.46889999999999965, 0.45875999999999967, 0.4486199999999997, 0.4384799999999997, 0.4283399999999997, 0.41819999999999974, 0.40805999999999976, 0.3979199999999998, 0.3877799999999998, 0.3776399999999998, 0.3674999999999998, 0.35735999999999984, 0.34721999999999986, 0.3370799999999999, 0.3269399999999999, 0.3167999999999999, 0.30665999999999993, 0.29651999999999995, 0.28637999999999997, 0.27624, 0.2661, 0.25596, 0.24582, 0.23568, 0.22554, 0.21539999999999998, 0.20525999999999997, 0.19511999999999996, 0.18497999999999995, 0.17483999999999994, 0.16469999999999993, 0.15455999999999992, 0.1444199999999999, 0.1342799999999999, 0.1241399999999999, 0.11399999999999991]\n",
      "fg_KG[16] = 0.45875999999999967\n"
     ]
    }
   ],
   "source": [
    "fg_KG = []\n",
    "fg_KG.append(0.621)\n",
    "\n",
    "start = 0.621\n",
    "end = 0.114\n",
    "part = (start - end) / 50\n",
    "\n",
    "print(\"start, end, part = \", start, end, part)\n",
    "\n",
    "for i in range(1, 51):\n",
    "    el = start - part\n",
    "    fg_KG.append(el)\n",
    "    start = el\n",
    "\n",
    "\n",
    "\n",
    "print(fg_KG)\n",
    "\n",
    "print(\"fg_KG[16] =\", fg_KG[16])"
   ]
  },
  {
   "cell_type": "code",
   "execution_count": 2,
   "metadata": {},
   "outputs": [
    {
     "name": "stdout",
     "output_type": "stream",
     "text": [
      "fg_KG[10] = 0.5195999999999996\n"
     ]
    }
   ],
   "source": [
    "print(\"fg_KG[10] =\", fg_KG[10])"
   ]
  },
  {
   "cell_type": "code",
   "execution_count": 5,
   "metadata": {},
   "outputs": [
    {
     "data": {
      "text/plain": [
       "0.6621"
      ]
     },
     "execution_count": 5,
     "metadata": {},
     "output_type": "execute_result"
    }
   ],
   "source": [
    "fg_KG[0]"
   ]
  },
  {
   "cell_type": "code",
   "execution_count": 4,
   "metadata": {},
   "outputs": [],
   "source": [
    "fg_KG.insert(0, 0.6621)"
   ]
  },
  {
   "cell_type": "code",
   "execution_count": 6,
   "metadata": {},
   "outputs": [
    {
     "data": {
      "text/plain": [
       "0.6621"
      ]
     },
     "execution_count": 6,
     "metadata": {},
     "output_type": "execute_result"
    }
   ],
   "source": [
    "fg_KG[0]"
   ]
  },
  {
   "cell_type": "code",
   "execution_count": null,
   "metadata": {},
   "outputs": [],
   "source": []
  }
 ],
 "metadata": {
  "kernelspec": {
   "display_name": "Python 3",
   "language": "python",
   "name": "python3"
  },
  "language_info": {
   "codemirror_mode": {
    "name": "ipython",
    "version": 3
   },
   "file_extension": ".py",
   "mimetype": "text/x-python",
   "name": "python",
   "nbconvert_exporter": "python",
   "pygments_lexer": "ipython3",
   "version": "3.6.4"
  }
 },
 "nbformat": 4,
 "nbformat_minor": 2
}
